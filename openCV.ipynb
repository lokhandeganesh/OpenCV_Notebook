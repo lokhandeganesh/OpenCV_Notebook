{
 "cells": [
  {
   "cell_type": "code",
   "execution_count": 1,
   "metadata": {},
   "outputs": [],
   "source": [
    "#pip install opencv-python\r\n",
    "import cv2\r\n",
    "import os\r\n",
    "cv2.__version__"
   ]
  }
 ],
 "metadata": {
  "interpreter": {
   "hash": "948170eb9d8cb5f117a447eb01cd41e36cb4e6c05459631fd456444046c8df86"
  },
  "kernelspec": {
   "display_name": "Python 2.7.18 64-bit ('snap': conda)",
   "name": "python3"
  },
  "language_info": {
   "codemirror_mode": {
    "name": "ipython",
    "version": 3
   },
   "file_extension": ".py",
   "mimetype": "text/x-python",
   "name": "python",
   "nbconvert_exporter": "python",
   "pygments_lexer": "ipython3",
   "version": "3.7.3"
  },
  "orig_nbformat": 4
 },
 "nbformat": 4,
 "nbformat_minor": 2
}