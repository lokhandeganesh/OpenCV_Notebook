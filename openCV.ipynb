{
 "cells": [
  {
   "cell_type": "code",
   "execution_count": 2,
   "source": [
    "#pip install opencv-python\r\n",
    "import cv2\r\n",
    "import os\r\n",
    "import numpy as np \r\n",
    "cv2.__version__"
   ],
   "outputs": [
    {
     "output_type": "execute_result",
     "data": {
      "text/plain": [
       "'4.5.2'"
      ]
     },
     "metadata": {},
     "execution_count": 2
    }
   ],
   "metadata": {}
  },
  {
   "cell_type": "code",
   "execution_count": 3,
   "source": [
    "sampleFilePath = r'C:\\Users\\Dell\\Desktop\\Python\\openCV\\opencv-master\\samples\\data'\r\n",
    "os.chdir(sampleFilePath)"
   ],
   "outputs": [],
   "metadata": {}
  },
  {
   "cell_type": "code",
   "execution_count": null,
   "source": [
    "cv2.imread?"
   ],
   "outputs": [],
   "metadata": {}
  },
  {
   "cell_type": "code",
   "execution_count": 5,
   "source": [
    "#0 - grey scale, 1 -RGB , -1 - RGB with alpha chanel\r\n",
    "img = cv2.imread('lena.jpg',-1)\r\n",
    "\r\n",
    "#print(img)\r\n",
    "cv2.imshow('image',img)\r\n",
    "\r\n",
    "# Closing of window after time in msec\r\n",
    "cv2.waitKey(5000)\r\n",
    "\r\n",
    "cv2.destroyAllWindows()\r\n",
    "\r\n",
    "#save image \r\n",
    "# cv2.imwrite('filePath.format',img)"
   ],
   "outputs": [],
   "metadata": {}
  },
  {
   "cell_type": "code",
   "execution_count": null,
   "source": [
    "cap = cv2.VideoCapture(0)\r\n",
    "\r\n",
    "while (True) :\r\n",
    "  ret,frame = cap.read()\r\n",
    "  cv2.imshow('frame', frame)\r\n",
    "  \r\n",
    "  if cv2.waitKey(1) & 0xFF == ord('q'):\r\n",
    "    break\r\n",
    "    \r\n",
    "cap.release()    \r\n",
    "cv2.destroyAllWindows()"
   ],
   "outputs": [],
   "metadata": {}
  },
  {
   "cell_type": "markdown",
   "source": [
    "### Working with geomatrical shapes"
   ],
   "metadata": {}
  },
  {
   "cell_type": "code",
   "execution_count": 6,
   "source": [
    "img = np.zeros([512,512,3],np.uint8)\r\n",
    "\r\n",
    "img = cv2.arrowedLine(img,(0,255),(255,255),(255,0,0),10)\r\n",
    "\r\n",
    "font = cv2.FONT_HERSHEY_SIMPLEX\r\n",
    "img = cv2.putText(img,'OpenCV',(10,500),font,4,(0,255,255),5,cv2.LINE_AA)\r\n",
    "\r\n",
    "cv2.imshow('image',img)\r\n",
    "\r\n",
    "cv2.waitKey(0)\r\n",
    "cv2.destroyAllWindows()\r\n"
   ],
   "outputs": [],
   "metadata": {}
  }
 ],
 "metadata": {
  "interpreter": {
   "hash": "b3ba2566441a7c06988d0923437866b63cedc61552a5af99d1f4fb67d367b25f"
  },
  "kernelspec": {
   "display_name": "Python 3.7.3 64-bit ('base': conda)",
   "name": "python3"
  },
  "language_info": {
   "codemirror_mode": {
    "name": "ipython",
    "version": 3
   },
   "file_extension": ".py",
   "mimetype": "text/x-python",
   "name": "python",
   "nbconvert_exporter": "python",
   "pygments_lexer": "ipython3",
   "version": "3.7.3"
  },
  "orig_nbformat": 4
 },
 "nbformat": 4,
 "nbformat_minor": 2
}